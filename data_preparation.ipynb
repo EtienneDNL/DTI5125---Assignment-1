{
 "cells": [
  {
   "cell_type": "code",
   "execution_count": null,
   "id": "32b4ed87",
   "metadata": {},
   "outputs": [
    {
     "name": "stderr",
     "output_type": "stream",
     "text": [
      "warning: safe.directory ''%(prefix)///wsl.localhost/Ubuntu/db/Workspace/DTI5125---Assignment-1'' not absolute\n",
      "fatal: detected dubious ownership in repository at '//wsl.localhost/Ubuntu/db/Workspace/DTI5125---Assignment-1'\n",
      "To add an exception for this directory, call:\n",
      "\n",
      "\tgit config --global --add safe.directory '%(prefix)///wsl.localhost/Ubuntu/db/Workspace/DTI5125---Assignment-1'\n"
     ]
    }
   ],
   "source": [
    "#File created"
   ]
  }
 ],
 "metadata": {
  "kernelspec": {
   "display_name": ".venv",
   "language": "python",
   "name": "python3"
  },
  "language_info": {
   "codemirror_mode": {
    "name": "ipython",
    "version": 3
   },
   "file_extension": ".py",
   "mimetype": "text/x-python",
   "name": "python",
   "nbconvert_exporter": "python",
   "pygments_lexer": "ipython3",
   "version": "3.11.3"
  }
 },
 "nbformat": 4,
 "nbformat_minor": 5
}
